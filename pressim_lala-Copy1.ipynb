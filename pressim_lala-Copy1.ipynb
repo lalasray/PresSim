{
 "cells": [
  {
   "cell_type": "code",
   "execution_count": 1,
   "id": "7bc9aa11",
   "metadata": {
    "ExecuteTime": {
     "end_time": "2022-07-05T12:20:47.161926Z",
     "start_time": "2022-07-05T12:20:45.222388Z"
    }
   },
   "outputs": [],
   "source": [
    "import cv2\n",
    "import numpy as np\n",
    "import pandas as pd\n",
    "import matplotlib.pyplot as plt\n",
    "import tensorflow as tf\n",
    "from tensorflow.keras import layers\n",
    "import tensorflow.keras \n",
    "from tensorflow.keras.models import Sequential\n",
    "from tensorflow.keras.layers import Dense, Flatten, Conv3D, MaxPooling3D, Dropout, BatchNormalization, Input\n",
    "from tensorflow.keras.utils import to_categorical"
   ]
  },
  {
   "cell_type": "code",
   "execution_count": 2,
   "id": "8a752f9a",
   "metadata": {
    "ExecuteTime": {
     "end_time": "2022-07-05T12:20:48.349826Z",
     "start_time": "2022-07-05T12:20:48.340514Z"
    }
   },
   "outputs": [],
   "source": [
    "def create_var(x,value = 10):\n",
    "    locals()[x] = value\n",
    "    print(locals()[x])"
   ]
  },
  {
   "cell_type": "code",
   "execution_count": 3,
   "id": "48d078e8",
   "metadata": {
    "ExecuteTime": {
     "end_time": "2022-07-05T12:21:09.851429Z",
     "start_time": "2022-07-05T12:20:49.554849Z"
    }
   },
   "outputs": [
    {
     "name": "stdout",
     "output_type": "stream",
     "text": [
      "(13575, 17, 3) (13575, 80, 28) (13575, 80, 28)\n",
      "(13565, 10, 17, 3, 1) (13565, 10, 80, 28, 1) (13565, 1, 80, 28, 1)\n",
      "(13565, 10, 17, 3, 1) (13565, 10, 80, 28, 1) (13565, 1, 80, 28, 1)\n"
     ]
    }
   ],
   "source": [
    "#pose = (\"P1R1\",\"P1R2\" ,\"P1R3\",\n",
    "#       \"P2R1\",\"P2R2\" ,\"P2R3\",\n",
    "#       \"P5R1\",\"P5R2\" ,\"P5R3\",\n",
    "#       \"P6R1\",\"P6R2\" ,\"P6R3\",\n",
    "#       \"P7R1\",\"P7R2\" ,\"P7R3\",\n",
    "#       \"P8R1\",\"P8R2\" ,\"P8R3\",\n",
    "#       \"P9R1\",\"P9R2\" ,\"P9R3\",)\n",
    "\n",
    "pose = (\"P1R3\",)\n",
    "out_frame_no = 5\n",
    "for pose_no in (pose):\n",
    "    input1 = np.load(\"C:/Users/lara01/OneDrive - dfki.de/PresSim/Data/FinalData/3DPose/\"+pose_no+\"_pose.npy\")\n",
    "    input2 = np.load(\"C:/Users/lara01/OneDrive - dfki.de/PresSim/Data/FinalData/SimulatedPressure/\"+pose_no+\"_sim.npy\")\n",
    "    output = np.load(\"C:/Users/lara01/OneDrive - dfki.de/PresSim/Data/FinalData/PressueMap/\"+pose_no+\"_Sen.npy\") \n",
    "    print(input1.shape,input2.shape,output.shape)\n",
    "    buffer1 = np.empty([10,17,3])\n",
    "    buffer2 = np.empty([10,80,28])\n",
    "    buffer3 = np.empty([1,80,28])\n",
    "    in_1 = np.empty([(input1.shape[0]-10),10,17,3,1])\n",
    "    in_2 = np.empty([(input1.shape[0]-10),10,80,28,1])\n",
    "    out = np.empty([int((input1.shape[0])-10),1,80,28,1])\n",
    "    print(in_1.shape,in_2.shape,out.shape)\n",
    "    for x in range(0,(input1.shape[0]-10), 1):\n",
    "        buffer3[0] =  output[x+out_frame_no]\n",
    "        for y in range (10):\n",
    "            buffer1[y] =  input1[x+y]\n",
    "            buffer2[y] =  input2[x+y]\n",
    "        in_1[x] = tf.expand_dims(buffer1, 3)\n",
    "        in_2[x] = tf.expand_dims(buffer2, 3)\n",
    "        out[x] = tf.expand_dims(buffer3, 3)\n",
    "    #in_1f = np.concatenate(in_1f,in_1)\n",
    "    #in_2f = np.concatenate(in_2f,in_2)\n",
    "    #out_f = np.concatenate(out_f,out)\n",
    "    print(in_1.shape,in_2.shape,out.shape)\n",
    "    #print(in_1f.shape,in_2f.shape,out_f.shape)"
   ]
  },
  {
   "cell_type": "code",
   "execution_count": 4,
   "id": "9f1b44d6",
   "metadata": {},
   "outputs": [
    {
     "name": "stdout",
     "output_type": "stream",
     "text": [
      "4095.0\n",
      "0.0\n"
     ]
    }
   ],
   "source": [
    "print(np.max(out))\n",
    "print(np.min(out))"
   ]
  },
  {
   "cell_type": "code",
   "execution_count": 5,
   "id": "ca500d47",
   "metadata": {
    "ExecuteTime": {
     "end_time": "2022-07-05T12:21:13.380737Z",
     "start_time": "2022-07-05T12:21:13.311008Z"
    }
   },
   "outputs": [
    {
     "name": "stdout",
     "output_type": "stream",
     "text": [
      "Model: \"model_1\"\n",
      "_________________________________________________________________\n",
      " Layer (type)                Output Shape              Param #   \n",
      "=================================================================\n",
      " Input_a (InputLayer)        [(None, 10, 17, 3, 1)]    0         \n",
      "                                                                 \n",
      " conv3d (Conv3D)             (None, 8, 15, 1, 16)      448       \n",
      "                                                                 \n",
      " max_pooling3d (MaxPooling3D  (None, 4, 15, 1, 16)     0         \n",
      " )                                                               \n",
      "                                                                 \n",
      " up_sampling3d (UpSampling3D  (None, 4, 60, 8, 16)     0         \n",
      " )                                                               \n",
      "                                                                 \n",
      " dropout (Dropout)           (None, 4, 60, 8, 16)      0         \n",
      "                                                                 \n",
      " batch_normalization (BatchN  (None, 4, 60, 8, 16)     64        \n",
      " ormalization)                                                   \n",
      "                                                                 \n",
      " conv3d_1 (Conv3D)           (None, 4, 60, 8, 32)      13856     \n",
      "                                                                 \n",
      " max_pooling3d_1 (MaxPooling  (None, 2, 60, 8, 32)     0         \n",
      " 3D)                                                             \n",
      "                                                                 \n",
      " dropout_1 (Dropout)         (None, 2, 60, 8, 32)      0         \n",
      "                                                                 \n",
      " batch_normalization_1 (Batc  (None, 2, 60, 8, 32)     128       \n",
      " hNormalization)                                                 \n",
      "                                                                 \n",
      " up_sampling3d_1 (UpSampling  (None, 2, 240, 56, 32)   0         \n",
      " 3D)                                                             \n",
      "                                                                 \n",
      " conv3d_2 (Conv3D)           (None, 2, 240, 56, 1)     865       \n",
      "                                                                 \n",
      " max_pooling3d_2 (MaxPooling  (None, 1, 80, 28, 1)     0         \n",
      " 3D)                                                             \n",
      "                                                                 \n",
      "=================================================================\n",
      "Total params: 15,361\n",
      "Trainable params: 15,265\n",
      "Non-trainable params: 96\n",
      "_________________________________________________________________\n"
     ]
    }
   ],
   "source": [
    "#10 frames 3dcnn\n",
    "droprate = 0.3\n",
    "a = layers.Input(shape=(10, 17, 3, 1), name=\"Input_a\")\n",
    "#output1 = layers.Reshape((10, 17, 3))(a)\n",
    "output1 = layers.Conv3D(filters = 16, kernel_size = (3,3,3),  activation='relu')(a) #no padding, critical for shaping the tensor\n",
    "# don't change this layer's kernel without adjusting the pooling and upsampling\n",
    "output1= layers.MaxPooling3D(pool_size=(2, 1, 1))(output1)\n",
    "output1= layers.UpSampling3D(size=(1, 4, 8))(output1)\n",
    "output1= layers.Dropout(droprate)(output1)\n",
    "output1= layers.BatchNormalization()(output1)\n",
    "output1= layers.Conv3D(32, kernel_size=(3, 3, 3), padding = 'same', activation='relu')(output1)\n",
    "output1= layers.MaxPooling3D(pool_size=(2, 1, 1))(output1)\n",
    "output1= layers.Dropout(droprate)(output1)\n",
    "output1= layers.BatchNormalization()(output1)\n",
    "output1= layers.UpSampling3D(size=(1, 4, 7))(output1)\n",
    "output1= layers.Conv3D(1, kernel_size=(3, 3, 3), padding = 'same', activation='relu')(output1)\n",
    "output1= layers.MaxPooling3D(pool_size=(2, 3, 2))(output1)\n",
    "#output1 = layers.Reshape((80,28,1))(output1)\n",
    "model1 = tensorflow.keras.Model(inputs=a,outputs=[output1], name=\"model_1\")\n",
    "model1.compile(loss='mse',optimizer=tensorflow.keras.optimizers.Adam(learning_rate=0.001), metrics=[\"mae\"])\n",
    "model1.summary()"
   ]
  },
  {
   "cell_type": "code",
   "execution_count": 6,
   "id": "c8f9626a",
   "metadata": {
    "ExecuteTime": {
     "end_time": "2022-07-05T12:21:14.766803Z",
     "start_time": "2022-07-05T12:21:14.722424Z"
    }
   },
   "outputs": [
    {
     "name": "stdout",
     "output_type": "stream",
     "text": [
      "Model: \"model_2\"\n",
      "_________________________________________________________________\n",
      " Layer (type)                Output Shape              Param #   \n",
      "=================================================================\n",
      " Input_b (InputLayer)        [(None, 10, 80, 28, 1)]   0         \n",
      "                                                                 \n",
      " conv3d_3 (Conv3D)           (None, 10, 80, 28, 16)    448       \n",
      "                                                                 \n",
      " max_pooling3d_3 (MaxPooling  (None, 5, 80, 28, 16)    0         \n",
      " 3D)                                                             \n",
      "                                                                 \n",
      " dropout_2 (Dropout)         (None, 5, 80, 28, 16)     0         \n",
      "                                                                 \n",
      " batch_normalization_2 (Batc  (None, 5, 80, 28, 16)    64        \n",
      " hNormalization)                                                 \n",
      "                                                                 \n",
      " conv3d_4 (Conv3D)           (None, 5, 80, 28, 32)     13856     \n",
      "                                                                 \n",
      " max_pooling3d_4 (MaxPooling  (None, 2, 80, 28, 32)    0         \n",
      " 3D)                                                             \n",
      "                                                                 \n",
      " dropout_3 (Dropout)         (None, 2, 80, 28, 32)     0         \n",
      "                                                                 \n",
      " batch_normalization_3 (Batc  (None, 2, 80, 28, 32)    128       \n",
      " hNormalization)                                                 \n",
      "                                                                 \n",
      " conv3d_5 (Conv3D)           (None, 2, 80, 28, 16)     9232      \n",
      "                                                                 \n",
      " max_pooling3d_5 (MaxPooling  (None, 1, 80, 28, 16)    0         \n",
      " 3D)                                                             \n",
      "                                                                 \n",
      " conv3d_6 (Conv3D)           (None, 1, 80, 28, 1)      145       \n",
      "                                                                 \n",
      "=================================================================\n",
      "Total params: 23,873\n",
      "Trainable params: 23,777\n",
      "Non-trainable params: 96\n",
      "_________________________________________________________________\n"
     ]
    }
   ],
   "source": [
    "b = layers.Input(shape=(10,80, 28, 1), name=\"Input_b\")\n",
    "output2 = layers.Conv3D(filters = 16, kernel_size = (3,3,3), padding = 'same', activation='relu')(b)\n",
    "output2 = layers.MaxPooling3D(pool_size=(2, 1, 1))(output2)\n",
    "output2 = layers.Dropout(droprate)(output2)\n",
    "output2 = layers.BatchNormalization()(output2)\n",
    "output2 = layers.Conv3D(32, kernel_size=(3, 3, 3), padding='same',activation='relu')(output2)\n",
    "output2 = layers.MaxPooling3D(pool_size=(2, 1, 1))(output2)\n",
    "output2 = layers.Dropout(droprate)(output2)\n",
    "output2 = layers.BatchNormalization()(output2)\n",
    "output2 = layers.Conv3D(16, kernel_size=(2, 3, 3), padding='same',activation='relu')(output2)\n",
    "output2 = layers.MaxPooling3D(pool_size=(2, 1, 1))(output2)\n",
    "#output2 = layers.UpSampling3D(size=(5, 4, 4))(output2)\n",
    "output2 = layers.Conv3D(1, kernel_size=(1, 3, 3), padding='same',activation='relu')(output2)\n",
    "#output2 = layers.Reshape((80,28,1))(output2)\n",
    "model2 = tensorflow.keras.Model(inputs=b,outputs=[output2], name=\"model_2\")\n",
    "model2.compile(loss='mse',optimizer=tensorflow.keras.optimizers.Adam(learning_rate=0.001), metrics=[\"mae\"])\n",
    "model2.summary()"
   ]
  },
  {
   "cell_type": "code",
   "execution_count": 7,
   "id": "211a0c9d",
   "metadata": {
    "ExecuteTime": {
     "end_time": "2022-07-05T12:21:15.461283Z",
     "start_time": "2022-07-05T12:21:15.415172Z"
    }
   },
   "outputs": [],
   "source": [
    "output3 = layers.Concatenate()([output1,output2])\n",
    "output3 = layers.Conv2D(filters = 32, kernel_size = (2,2), activation='relu', padding = 'same')(output3)\n",
    "output3 = layers.Conv2D(filters = 8, kernel_size = (2,2), activation='relu', padding = 'same')(output3)\n",
    "output3 = layers.Conv2D(filters = 1, kernel_size = (1,1), activation='relu', padding = 'same')(output3)\n",
    "output3 = layers.Reshape((1,80,28))(output3)"
   ]
  },
  {
   "cell_type": "code",
   "execution_count": 8,
   "id": "8c27449a",
   "metadata": {
    "ExecuteTime": {
     "end_time": "2022-07-05T12:21:16.673677Z",
     "start_time": "2022-07-05T12:21:16.645891Z"
    }
   },
   "outputs": [
    {
     "name": "stdout",
     "output_type": "stream",
     "text": [
      "Model: \"regressor_model\"\n",
      "__________________________________________________________________________________________________\n",
      " Layer (type)                   Output Shape         Param #     Connected to                     \n",
      "==================================================================================================\n",
      " Input_a (InputLayer)           [(None, 10, 17, 3,   0           []                               \n",
      "                                1)]                                                               \n",
      "                                                                                                  \n",
      " conv3d (Conv3D)                (None, 8, 15, 1, 16  448         ['Input_a[0][0]']                \n",
      "                                )                                                                 \n",
      "                                                                                                  \n",
      " Input_b (InputLayer)           [(None, 10, 80, 28,  0           []                               \n",
      "                                 1)]                                                              \n",
      "                                                                                                  \n",
      " max_pooling3d (MaxPooling3D)   (None, 4, 15, 1, 16  0           ['conv3d[0][0]']                 \n",
      "                                )                                                                 \n",
      "                                                                                                  \n",
      " conv3d_3 (Conv3D)              (None, 10, 80, 28,   448         ['Input_b[0][0]']                \n",
      "                                16)                                                               \n",
      "                                                                                                  \n",
      " up_sampling3d (UpSampling3D)   (None, 4, 60, 8, 16  0           ['max_pooling3d[0][0]']          \n",
      "                                )                                                                 \n",
      "                                                                                                  \n",
      " max_pooling3d_3 (MaxPooling3D)  (None, 5, 80, 28, 1  0          ['conv3d_3[0][0]']               \n",
      "                                6)                                                                \n",
      "                                                                                                  \n",
      " dropout (Dropout)              (None, 4, 60, 8, 16  0           ['up_sampling3d[0][0]']          \n",
      "                                )                                                                 \n",
      "                                                                                                  \n",
      " dropout_2 (Dropout)            (None, 5, 80, 28, 1  0           ['max_pooling3d_3[0][0]']        \n",
      "                                6)                                                                \n",
      "                                                                                                  \n",
      " batch_normalization (BatchNorm  (None, 4, 60, 8, 16  64         ['dropout[0][0]']                \n",
      " alization)                     )                                                                 \n",
      "                                                                                                  \n",
      " batch_normalization_2 (BatchNo  (None, 5, 80, 28, 1  64         ['dropout_2[0][0]']              \n",
      " rmalization)                   6)                                                                \n",
      "                                                                                                  \n",
      " conv3d_1 (Conv3D)              (None, 4, 60, 8, 32  13856       ['batch_normalization[0][0]']    \n",
      "                                )                                                                 \n",
      "                                                                                                  \n",
      " conv3d_4 (Conv3D)              (None, 5, 80, 28, 3  13856       ['batch_normalization_2[0][0]']  \n",
      "                                2)                                                                \n",
      "                                                                                                  \n",
      " max_pooling3d_1 (MaxPooling3D)  (None, 2, 60, 8, 32  0          ['conv3d_1[0][0]']               \n",
      "                                )                                                                 \n",
      "                                                                                                  \n",
      " max_pooling3d_4 (MaxPooling3D)  (None, 2, 80, 28, 3  0          ['conv3d_4[0][0]']               \n",
      "                                2)                                                                \n",
      "                                                                                                  \n",
      " dropout_1 (Dropout)            (None, 2, 60, 8, 32  0           ['max_pooling3d_1[0][0]']        \n",
      "                                )                                                                 \n",
      "                                                                                                  \n",
      " dropout_3 (Dropout)            (None, 2, 80, 28, 3  0           ['max_pooling3d_4[0][0]']        \n",
      "                                2)                                                                \n",
      "                                                                                                  \n",
      " batch_normalization_1 (BatchNo  (None, 2, 60, 8, 32  128        ['dropout_1[0][0]']              \n",
      " rmalization)                   )                                                                 \n",
      "                                                                                                  \n",
      " batch_normalization_3 (BatchNo  (None, 2, 80, 28, 3  128        ['dropout_3[0][0]']              \n",
      " rmalization)                   2)                                                                \n",
      "                                                                                                  \n",
      " up_sampling3d_1 (UpSampling3D)  (None, 2, 240, 56,   0          ['batch_normalization_1[0][0]']  \n",
      "                                32)                                                               \n",
      "                                                                                                  \n",
      " conv3d_5 (Conv3D)              (None, 2, 80, 28, 1  9232        ['batch_normalization_3[0][0]']  \n",
      "                                6)                                                                \n",
      "                                                                                                  \n",
      " conv3d_2 (Conv3D)              (None, 2, 240, 56,   865         ['up_sampling3d_1[0][0]']        \n",
      "                                1)                                                                \n",
      "                                                                                                  \n",
      " max_pooling3d_5 (MaxPooling3D)  (None, 1, 80, 28, 1  0          ['conv3d_5[0][0]']               \n",
      "                                6)                                                                \n",
      "                                                                                                  \n",
      " max_pooling3d_2 (MaxPooling3D)  (None, 1, 80, 28, 1  0          ['conv3d_2[0][0]']               \n",
      "                                )                                                                 \n",
      "                                                                                                  \n",
      " conv3d_6 (Conv3D)              (None, 1, 80, 28, 1  145         ['max_pooling3d_5[0][0]']        \n",
      "                                )                                                                 \n",
      "                                                                                                  \n",
      " concatenate (Concatenate)      (None, 1, 80, 28, 2  0           ['max_pooling3d_2[0][0]',        \n",
      "                                )                                 'conv3d_6[0][0]']               \n",
      "                                                                                                  \n",
      " conv2d (Conv2D)                (None, 1, 80, 28, 3  288         ['concatenate[0][0]']            \n",
      "                                2)                                                                \n"
     ]
    },
    {
     "name": "stdout",
     "output_type": "stream",
     "text": [
      "                                                                                                  \n",
      " conv2d_1 (Conv2D)              (None, 1, 80, 28, 8  1032        ['conv2d[0][0]']                 \n",
      "                                )                                                                 \n",
      "                                                                                                  \n",
      " conv2d_2 (Conv2D)              (None, 1, 80, 28, 1  9           ['conv2d_1[0][0]']               \n",
      "                                )                                                                 \n",
      "                                                                                                  \n",
      " reshape (Reshape)              (None, 1, 80, 28)    0           ['conv2d_2[0][0]']               \n",
      "                                                                                                  \n",
      "==================================================================================================\n",
      "Total params: 40,563\n",
      "Trainable params: 40,371\n",
      "Non-trainable params: 192\n",
      "__________________________________________________________________________________________________\n"
     ]
    }
   ],
   "source": [
    "\n",
    "model = tensorflow.keras.Model(inputs=[a,b],outputs=[output3], name=\"regressor_model\")\n",
    "model.compile(loss='mse',optimizer=tensorflow.keras.optimizers.Adam(learning_rate=0.001), metrics=[\"mae\"])\n",
    "model.summary()"
   ]
  },
  {
   "cell_type": "code",
   "execution_count": 9,
   "id": "b1564135",
   "metadata": {},
   "outputs": [
    {
     "name": "stdout",
     "output_type": "stream",
     "text": [
      "You must install pydot (`pip install pydot`) and install graphviz (see instructions at https://graphviz.gitlab.io/download/) for plot_model/model_to_dot to work.\n"
     ]
    }
   ],
   "source": [
    "tf.keras.utils.model_to_dot(\n",
    "    model,\n",
    "    show_shapes=False,\n",
    "    show_dtype=False,\n",
    "    show_layer_names=True,\n",
    "    rankdir=\"TB\",\n",
    "    expand_nested=False,\n",
    "    dpi=96,\n",
    "    subgraph=False,\n",
    "    layer_range=None,\n",
    "    show_layer_activations=False,\n",
    ")"
   ]
  },
  {
   "cell_type": "code",
   "execution_count": 9,
   "id": "a7fa9a99",
   "metadata": {
    "ExecuteTime": {
     "end_time": "2022-07-05T12:22:11.448999Z",
     "start_time": "2022-07-05T12:21:17.684350Z"
    }
   },
   "outputs": [
    {
     "name": "stdout",
     "output_type": "stream",
     "text": [
      "Epoch 1/40\n",
      "75/75 [==============================] - 44s 409ms/step - loss: 4927.2231 - mae: 16.0744 - val_loss: 3414.8164 - val_mae: 10.8467\n",
      "Epoch 2/40\n",
      "75/75 [==============================] - 29s 384ms/step - loss: 4857.0312 - mae: 17.0858 - val_loss: 3401.2800 - val_mae: 12.8923\n",
      "Epoch 3/40\n",
      "75/75 [==============================] - 29s 384ms/step - loss: 4794.9365 - mae: 16.7118 - val_loss: 3398.3311 - val_mae: 14.1748\n",
      "Epoch 4/40\n",
      "75/75 [==============================] - 44s 590ms/step - loss: 4744.8086 - mae: 16.4160 - val_loss: 3412.3572 - val_mae: 15.6561\n",
      "Epoch 5/40\n",
      "75/75 [==============================] - 29s 384ms/step - loss: 4708.0117 - mae: 16.2696 - val_loss: 3415.0273 - val_mae: 13.2161\n",
      "Epoch 6/40\n",
      "75/75 [==============================] - 29s 384ms/step - loss: 4677.9692 - mae: 16.1238 - val_loss: 3537.8191 - val_mae: 19.1130\n",
      "Epoch 7/40\n",
      "75/75 [==============================] - 37s 502ms/step - loss: 4662.1841 - mae: 16.0112 - val_loss: 3438.0833 - val_mae: 13.7588\n",
      "Epoch 8/40\n",
      "75/75 [==============================] - 32s 430ms/step - loss: 4636.8999 - mae: 15.9448 - val_loss: 3516.1257 - val_mae: 15.5640\n",
      "Epoch 9/40\n",
      "75/75 [==============================] - 31s 411ms/step - loss: 4622.0376 - mae: 15.9128 - val_loss: 3458.5034 - val_mae: 8.6206\n",
      "Epoch 10/40\n",
      "75/75 [==============================] - 28s 380ms/step - loss: 4607.1782 - mae: 15.8204 - val_loss: 3462.5120 - val_mae: 14.2908\n",
      "Epoch 11/40\n",
      "75/75 [==============================] - 29s 381ms/step - loss: 4594.8545 - mae: 15.6957 - val_loss: 3525.6594 - val_mae: 15.7640\n",
      "Epoch 12/40\n",
      "75/75 [==============================] - 29s 381ms/step - loss: 4575.9399 - mae: 15.6994 - val_loss: 3591.4626 - val_mae: 15.5854\n",
      "Epoch 13/40\n",
      "75/75 [==============================] - 29s 381ms/step - loss: 4574.6841 - mae: 15.6987 - val_loss: 3641.1938 - val_mae: 14.4046\n",
      "Epoch 14/40\n",
      "75/75 [==============================] - 29s 382ms/step - loss: 4549.1367 - mae: 15.5551 - val_loss: 3511.4114 - val_mae: 13.8003\n",
      "Epoch 15/40\n",
      "75/75 [==============================] - 32s 429ms/step - loss: 4535.6357 - mae: 15.4678 - val_loss: 3515.4983 - val_mae: 12.9495\n",
      "Epoch 16/40\n",
      "75/75 [==============================] - 29s 381ms/step - loss: 4536.1245 - mae: 15.4048 - val_loss: 3495.8420 - val_mae: 14.8818\n",
      "Epoch 17/40\n",
      "75/75 [==============================] - 28s 380ms/step - loss: 4515.8892 - mae: 15.4525 - val_loss: 3620.8667 - val_mae: 13.4168\n",
      "Epoch 18/40\n",
      "75/75 [==============================] - 29s 382ms/step - loss: 4517.6094 - mae: 15.3711 - val_loss: 3591.4722 - val_mae: 14.9059\n",
      "Epoch 19/40\n",
      "75/75 [==============================] - 29s 383ms/step - loss: 4512.3872 - mae: 15.3766 - val_loss: 3586.7100 - val_mae: 15.0229\n",
      "Epoch 20/40\n",
      "75/75 [==============================] - 29s 381ms/step - loss: 4508.0913 - mae: 15.4229 - val_loss: 3543.1765 - val_mae: 14.8301\n",
      "Epoch 21/40\n",
      "75/75 [==============================] - 29s 382ms/step - loss: 4490.2734 - mae: 15.3623 - val_loss: 3581.7783 - val_mae: 13.8813\n",
      "Epoch 22/40\n",
      "75/75 [==============================] - 29s 382ms/step - loss: 4484.5386 - mae: 15.2720 - val_loss: 3517.4412 - val_mae: 13.6506\n",
      "Epoch 23/40\n",
      "75/75 [==============================] - 29s 381ms/step - loss: 4479.4351 - mae: 15.3015 - val_loss: 3443.5103 - val_mae: 13.5060\n",
      "Epoch 24/40\n",
      "75/75 [==============================] - 34s 450ms/step - loss: 4476.1860 - mae: 15.3290 - val_loss: 3484.4993 - val_mae: 13.3527\n",
      "Epoch 25/40\n",
      "75/75 [==============================] - 29s 381ms/step - loss: 4469.3662 - mae: 15.2759 - val_loss: 3498.0459 - val_mae: 13.9723\n",
      "Epoch 26/40\n",
      "75/75 [==============================] - 29s 381ms/step - loss: 4465.1738 - mae: 15.2812 - val_loss: 3541.5876 - val_mae: 14.9616\n",
      "Epoch 27/40\n",
      "75/75 [==============================] - 29s 381ms/step - loss: 4457.6021 - mae: 15.2608 - val_loss: 3556.5669 - val_mae: 13.4586\n",
      "Epoch 28/40\n",
      "75/75 [==============================] - 29s 382ms/step - loss: 4445.4199 - mae: 15.2799 - val_loss: 3508.0330 - val_mae: 12.7891\n",
      "Epoch 29/40\n",
      "75/75 [==============================] - 29s 381ms/step - loss: 4443.7959 - mae: 15.2940 - val_loss: 3535.9465 - val_mae: 12.5025\n",
      "Epoch 30/40\n",
      "75/75 [==============================] - 37s 489ms/step - loss: 4438.4951 - mae: 15.2071 - val_loss: 3553.0688 - val_mae: 14.7049\n",
      "Epoch 31/40\n",
      "75/75 [==============================] - 28s 380ms/step - loss: 4429.7349 - mae: 15.2087 - val_loss: 3530.8062 - val_mae: 13.1164\n",
      "Epoch 32/40\n",
      "75/75 [==============================] - 28s 380ms/step - loss: 4426.6172 - mae: 15.2082 - val_loss: 3578.8672 - val_mae: 14.2886\n",
      "Epoch 33/40\n",
      "75/75 [==============================] - 28s 379ms/step - loss: 4434.7349 - mae: 15.1821 - val_loss: 3500.5520 - val_mae: 14.6775\n",
      "Epoch 34/40\n",
      "75/75 [==============================] - 28s 380ms/step - loss: 4425.3901 - mae: 15.2535 - val_loss: 3603.0476 - val_mae: 12.9782\n",
      "Epoch 35/40\n",
      "75/75 [==============================] - 36s 488ms/step - loss: 4435.3545 - mae: 15.1907 - val_loss: 3517.2456 - val_mae: 14.3657\n",
      "Epoch 36/40\n",
      "75/75 [==============================] - 55s 738ms/step - loss: 4408.5815 - mae: 15.1449 - val_loss: 3582.7908 - val_mae: 14.0272\n",
      "Epoch 37/40\n",
      "75/75 [==============================] - 37s 492ms/step - loss: 4406.5869 - mae: 15.1754 - val_loss: 3518.7390 - val_mae: 13.4268\n",
      "Epoch 38/40\n",
      "75/75 [==============================] - 28s 377ms/step - loss: 4402.8398 - mae: 15.1606 - val_loss: 3530.7349 - val_mae: 13.5746\n",
      "Epoch 39/40\n",
      "75/75 [==============================] - 41s 547ms/step - loss: 4402.9858 - mae: 15.1378 - val_loss: 3502.6104 - val_mae: 13.7595\n",
      "Epoch 40/40\n",
      "75/75 [==============================] - 28s 376ms/step - loss: 4382.7705 - mae: 15.0420 - val_loss: 3465.2798 - val_mae: 13.3045\n"
     ]
    }
   ],
   "source": [
    "history = model.fit([in_1,in_2],out,\n",
    "            batch_size=128,\n",
    "            epochs=40,\n",
    "            verbose=1,\n",
    "            validation_split=0.3\n",
    "                   )"
   ]
  },
  {
   "cell_type": "code",
   "execution_count": 10,
   "id": "8af64af5",
   "metadata": {},
   "outputs": [
    {
     "name": "stdout",
     "output_type": "stream",
     "text": [
      "424/424 [==============================] - 11s 24ms/step\n"
     ]
    }
   ],
   "source": [
    "pred = model.predict([in_1,in_2]) "
   ]
  },
  {
   "cell_type": "code",
   "execution_count": 11,
   "id": "d1a998a2",
   "metadata": {},
   "outputs": [
    {
     "data": {
      "image/png": "[encoded data removed]",
      "text/plain": [
       "<Figure size 432x230.4 with 2 Axes>"
      ]
     },
     "metadata": {
      "needs_background": "light"
     },
     "output_type": "display_data"
    }
   ],
   "source": [
    "ind = 9800\n",
    "gt = np.squeeze(out[ind,0])\n",
    "pd = np.squeeze(pred[ind])\n",
    "plt.figure(figsize=(6, 3.2))\n",
    "ax = plt.subplot(1,2,1)\n",
    "ax.set_title('gt')\n",
    "plt.imshow(gt)\n",
    "ax.set_aspect('equal')\n",
    "ax = plt.subplot(1,2,2)\n",
    "ax.set_title('pd')\n",
    "plt.imshow(pd)\n",
    "ax.set_aspect('equal')\n",
    "plt.show()"
   ]
  },
  {
   "cell_type": "code",
   "execution_count": 12,
   "id": "2a1d39bd",
   "metadata": {},
   "outputs": [
    {
     "data": {
      "image/png": "[encoded data removed]",
      "text/plain": [
       "<Figure size 432x230.4 with 1 Axes>"
      ]
     },
     "metadata": {
      "needs_background": "light"
     },
     "output_type": "display_data"
    },
    {
     "data": {
      "image/png": "[encoded data removed]",
      "text/plain": [
       "<Figure size 432x230.4 with 1 Axes>"
      ]
     },
     "metadata": {
      "needs_background": "light"
     },
     "output_type": "display_data"
    }
   ],
   "source": [
    "fig = plt.figure(figsize=(6, 3.2))\n",
    "ax = fig.add_subplot(111)\n",
    "plt.axis('off')\n",
    "plt.imshow(gt)\n",
    "ax.set_aspect('equal')\n",
    "#cax = fig.add_axes([0.12, 0.1, 0.78, 0.8])\n",
    "#cax.get_xaxis().set_visible(False)\n",
    "#cax.get_yaxis().set_visible(False)\n",
    "ax.set(xlabel=None)\n",
    "#cax.patch.set_alpha(0)\n",
    "#cax.set_frame_on(False)\n",
    "plt.savefig('gt.png')\n",
    "fig = plt.figure(figsize=(6, 3.2))\n",
    "ax = fig.add_subplot(111)\n",
    "plt.axis('off')\n",
    "plt.imshow(pd)\n",
    "ax.set_aspect('equal')\n",
    "#cax = fig.add_axes([0.12, 0.1, 0.78, 0.8])\n",
    "#cax.get_xaxis().set_visible(False)\n",
    "#cax.get_yaxis().set_visible(False)\n",
    "#cax.patch.set_alpha(0)\n",
    "#cax.set_frame_on(False)\n",
    "plt.savefig('pd.png')"
   ]
  },
  {
   "cell_type": "code",
   "execution_count": 16,
   "id": "c298806d",
   "metadata": {},
   "outputs": [
    {
     "data": {
      "image/png": "[encoded data removed]",
      "text/plain": [
       "<Figure size 432x288 with 3 Axes>"
      ]
     },
     "metadata": {
      "needs_background": "light"
     },
     "output_type": "display_data"
    },
    {
     "data": {
      "image/png": "[encoded data removed]",
      "text/plain": [
       "<Figure size 432x288 with 1 Axes>"
      ]
     },
     "metadata": {
      "needs_background": "light"
     },
     "output_type": "display_data"
    }
   ],
   "source": [
    "# Get RGB data from image\n",
    "blue_color_gt = cv2.calcHist([cv2.imread('gt.png')],[0],None,[256],[0,256]) \n",
    "red_color_gt = cv2.calcHist([cv2.imread('gt.png')],[1],None,[256],[0,256])\n",
    "green_color_gt = cv2.calcHist([cv2.imread('gt.png')],[2],None,[256],[0,256])\n",
    "plt.subplot(3, 1, 1)\n",
    "plt.title(\"histogram of Blue\")\n",
    "plt.hist(blue_color_gt, color=\"blue\")\n",
    "plt.subplot(3, 1, 2)\n",
    "plt.title(\"histogram of Green\")\n",
    "plt.hist(green_color_gt, color=\"green\")\n",
    "plt.subplot(3, 1, 3)\n",
    "plt.title(\"histogram of Red\")\n",
    "plt.hist(red_color_gt, color=\"red\")\n",
    "\n",
    "plt.tight_layout()\n",
    "plt.show()\n",
    "\n",
    "# combined histogram\n",
    "plt.title(\"Histogram of all RGB Colors\")\n",
    "plt.hist(blue_color_gt, color=\"blue\")\n",
    "plt.hist(green_color_gt, color=\"green\")\n",
    "plt.hist(red_color_gt, color=\"red\")\n",
    "plt.show()\n"
   ]
  },
  {
   "cell_type": "code",
   "execution_count": 17,
   "id": "9785de17",
   "metadata": {},
   "outputs": [
    {
     "data": {
      "image/png": "[encoded data removed]",
      "text/plain": [
       "<Figure size 432x288 with 3 Axes>"
      ]
     },
     "metadata": {
      "needs_background": "light"
     },
     "output_type": "display_data"
    },
    {
     "data": {
      "image/png": "[encoded data removed]",
      "text/plain": [
       "<Figure size 432x288 with 1 Axes>"
      ]
     },
     "metadata": {
      "needs_background": "light"
     },
     "output_type": "display_data"
    }
   ],
   "source": [
    "# Get RGB data from image\n",
    "blue_color_pd = cv2.calcHist([cv2.imread('pd.png')],[0],None,[256],[0,256]) \n",
    "red_color_pd = cv2.calcHist([cv2.imread('pd.png')],[1],None,[256],[0,256])\n",
    "green_color_pd = cv2.calcHist([cv2.imread('pd.png')],[2],None,[256],[0,256])\n",
    "plt.subplot(3, 1, 1)\n",
    "plt.title(\"histogram of Blue\")\n",
    "plt.hist(blue_color_pd, color=\"blue\")\n",
    "plt.subplot(3, 1, 2)\n",
    "plt.title(\"histogram of Green\")\n",
    "plt.hist(green_color_pd, color=\"green\")\n",
    "plt.subplot(3, 1, 3)\n",
    "plt.title(\"histogram of Red\")\n",
    "plt.hist(red_color_pd, color=\"red\")\n",
    "plt.tight_layout()\n",
    "plt.show()\n",
    "\n",
    "# combined histogram\n",
    "plt.title(\"Histogram of all RGB Colors\")\n",
    "plt.hist(blue_color_pd, color=\"blue\")\n",
    "plt.hist(green_color_pd, color=\"green\")\n",
    "plt.hist(red_color_pd, color=\"red\")\n",
    "plt.show()\n"
   ]
  },
  {
   "cell_type": "code",
   "execution_count": 18,
   "id": "6ceb9dae",
   "metadata": {},
   "outputs": [
    {
     "name": "stdout",
     "output_type": "stream",
     "text": [
      "98729.0 99.36493558776166\n",
      "98729.0 99.36493558776166\n",
      "98729.0 99.36493558776166\n"
     ]
    }
   ],
   "source": [
    "color = (\"blue_color\",\"green_color\",\"red_color\")\n",
    "for x in (color):\n",
    "    if (\"blue_color\"):\n",
    "        x = blue_color_gt\n",
    "        y = blue_color_pd\n",
    "    elif (x == \"green_color\"):\n",
    "        x == green_color_gt\n",
    "        y = green_color_pd\n",
    "    elif (x == \"red_color\"):\n",
    "        x == red_color_gt\n",
    "        y = red_color_pd\n",
    "    intersection = cv2.compareHist(x, y, 2)\n",
    "    inter_percentage = (intersection/cv2.compareHist(x, x, 2))*100\n",
    "    print(intersection, inter_percentage)"
   ]
  },
  {
   "cell_type": "code",
   "execution_count": 19,
   "id": "64de618b",
   "metadata": {},
   "outputs": [
    {
     "data": {
      "text/plain": [
       "True"
      ]
     },
     "execution_count": 19,
     "metadata": {},
     "output_type": "execute_result"
    }
   ],
   "source": [
    "orb = cv2.ORB_create()\n",
    "\n",
    "# Now detect the keypoints and compute\n",
    "# the descriptors for the query image\n",
    "# and train image\n",
    "queryKeypoints, queryDescriptors = orb.detectAndCompute(cv2.imread('gt.png'),None)\n",
    "trainKeypoints, trainDescriptors = orb.detectAndCompute(cv2.imread('pd.png'),None)\n",
    "\n",
    "# Initialize the Matcher for matching\n",
    "# the keypoints and then match the\n",
    "# keypoints\n",
    "matcher = cv2.BFMatcher()\n",
    "matches = matcher.match(queryDescriptors,trainDescriptors)\n",
    "\n",
    "# draw the matches to the final image\n",
    "# containing both the images the drawMatches()\n",
    "# function takes both images and keypoints\n",
    "# and outputs the matched query image with\n",
    "# its train image\n",
    "final_img = cv2.drawMatches(cv2.imread('gt.png'), queryKeypoints,\n",
    "cv2.imread('pd.png'), trainKeypoints, matches[:20],None)\n",
    "\n",
    "final_img = cv2.resize(final_img, (1000,650))\n",
    "\n",
    "# Show the final image\n",
    "cv2.imwrite('keypointa.png',final_img)"
   ]
  },
  {
   "cell_type": "code",
   "execution_count": 20,
   "id": "c3e61850",
   "metadata": {},
   "outputs": [
    {
     "name": "stdout",
     "output_type": "stream",
     "text": [
      "MSE:  17.457128958668815\n",
      "RMSE:  4.1781729211066425\n",
      "PSNR:  35.711075407385685\n",
      "SSIM:  (0.9872394773225882, 0.9882572910421504)\n",
      "UQI:  0.9926587586335426\n",
      "MSSSIM:  (0.990874458826684+0j)\n",
      "ERGAS:  324.9891241294578\n",
      "SCC:  0.04405487116942211\n",
      "RASE:  46.198981132428464\n",
      "SAM:  0.015944641529357376\n",
      "VIF:  0.8751494976581425\n"
     ]
    }
   ],
   "source": [
    "#https://sewar.readthedocs.io/en/latest/index.html\n",
    "blur = cv2.imread('pd.png')\n",
    "org = cv2.imread('gt.png')\n",
    "from sewar.full_ref import mse, rmse, psnr, uqi, ssim, ergas, scc, rase, sam, msssim, vifp\n",
    "print(\"MSE: \", mse(blur,org))\n",
    "print(\"RMSE: \", rmse(blur, org))\n",
    "print(\"PSNR: \", psnr(blur, org))\n",
    "print(\"SSIM: \", ssim(blur, org))\n",
    "print(\"UQI: \", uqi(blur, org))\n",
    "print(\"MSSSIM: \", msssim(blur, org))\n",
    "print(\"ERGAS: \", ergas(blur, org))\n",
    "print(\"SCC: \", scc(blur, org))\n",
    "print(\"RASE: \", rase(blur, org))\n",
    "print(\"SAM: \", sam(blur, org))\n",
    "print(\"VIF: \", vifp(blur, org))"
   ]
  },
  {
   "cell_type": "code",
   "execution_count": null,
   "id": "acdd1380",
   "metadata": {},
   "outputs": [],
   "source": []
  }
 ],
 "metadata": {
  "kernelspec": {
   "display_name": "Python 3 (ipykernel)",
   "language": "python",
   "name": "python3"
  },
  "language_info": {
   "codemirror_mode": {
    "name": "ipython",
    "version": 3
   },
   "file_extension": ".py",
   "mimetype": "text/x-python",
   "name": "python",
   "nbconvert_exporter": "python",
   "pygments_lexer": "ipython3",
   "version": "3.9.12"
  }
 },
 "nbformat": 4,
 "nbformat_minor": 5
}

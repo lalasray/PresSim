{
 "cells": [
  {
   "cell_type": "code",
   "execution_count": 1,
   "id": "7bc9aa11",
   "metadata": {
    "ExecuteTime": {
     "end_time": "2022-07-05T12:20:47.161926Z",
     "start_time": "2022-07-05T12:20:45.222388Z"
    }
   },
   "outputs": [],
   "source": [
    "import cv2\n",
    "import numpy as np\n",
    "import pandas as pd\n",
    "import matplotlib.pyplot as plt\n",
    "import tensorflow as tf\n",
    "from tensorflow.keras import layers\n",
    "import tensorflow.keras \n",
    "from tensorflow.keras.models import Sequential\n",
    "from tensorflow.keras.layers import Dense, Flatten, Conv3D, MaxPooling3D, Dropout, BatchNormalization, Input\n",
    "from tensorflow.keras.utils import to_categorical"
   ]
  },
  {
   "cell_type": "code",
   "execution_count": 2,
   "id": "8a752f9a",
   "metadata": {
    "ExecuteTime": {
     "end_time": "2022-07-05T12:20:48.349826Z",
     "start_time": "2022-07-05T12:20:48.340514Z"
    }
   },
   "outputs": [],
   "source": [
    "def create_var(x,value = 10):\n",
    "    locals()[x] = value\n",
    "    print(locals()[x])"
   ]
  },
  {
   "cell_type": "code",
   "execution_count": 3,
   "id": "48d078e8",
   "metadata": {
    "ExecuteTime": {
     "end_time": "2022-07-05T12:21:09.851429Z",
     "start_time": "2022-07-05T12:20:49.554849Z"
    }
   },
   "outputs": [
    {
     "name": "stdout",
     "output_type": "stream",
     "text": [
      "(13404, 10, 17, 3, 1) (13404, 10, 80, 28, 1) (13404, 1, 80, 28, 1)\n"
     ]
    }
   ],
   "source": [
    "pose = (\"P1R1\",)\n",
    "out_frame_no = 10\n",
    "for pose_no in (pose):\n",
    "    input1 = np.load(\"C:/Users/lalas/OneDrive - dfki.de/PresSim/Data/FinalData/3DPose/\"+pose_no+\"_pose.npy\")\n",
    "    input2 = np.load(\"C:/Users/lalas/OneDrive - dfki.de/PresSim/Data/FinalData/SimulatedPressure/\"+pose_no+\"_sim.npy\")\n",
    "    output = np.load(\"C:/Users/lalas/OneDrive - dfki.de/PresSim/Data/FinalData/PressueMap/\"+pose_no+\"_Sen.npy\") \n",
    "    buffer1 = np.empty([10,17,3])\n",
    "    buffer2 = np.empty([10,80,28])\n",
    "    buffer3 = np.empty([1,80,28])\n",
    "    in_1 = np.empty([(input1.shape[0]-10),10,17,3,1])\n",
    "    in_2 = np.empty([(input1.shape[0]-10),10,80,28,1])\n",
    "    out = np.empty([int((input1.shape[0])-10),1,80,28,1])\n",
    "    np.save(\"gt11.npy\", out)\n",
    "    for x in range(0,(input1.shape[0]-10), 1):\n",
    "        buffer3[0] =  output[x+out_frame_no]\n",
    "        for y in range (10):\n",
    "            buffer1[y] =  input1[x+y]\n",
    "            buffer2[y] =  input2[x+y]\n",
    "        in_1[x] = tf.expand_dims(buffer1, 3)\n",
    "        in_2[x] = tf.expand_dims(buffer2, 3)\n",
    "        out[x] = tf.expand_dims(buffer3, 3)\n",
    "    print(in_1.shape,in_2.shape,out.shape)"
   ]
  },
  {
   "cell_type": "code",
   "execution_count": 4,
   "id": "9f1b44d6",
   "metadata": {},
   "outputs": [
    {
     "name": "stdout",
     "output_type": "stream",
     "text": [
      "2833.0\n",
      "0.0\n"
     ]
    }
   ],
   "source": [
    "print(np.max(out))\n",
    "print(np.min(out))"
   ]
  },
  {
   "cell_type": "code",
   "execution_count": 5,
   "id": "ca500d47",
   "metadata": {
    "ExecuteTime": {
     "end_time": "2022-07-05T12:21:13.380737Z",
     "start_time": "2022-07-05T12:21:13.311008Z"
    }
   },
   "outputs": [
    {
     "name": "stdout",
     "output_type": "stream",
     "text": [
      "Model: \"model_1\"\n",
      "_________________________________________________________________\n",
      "Layer (type)                 Output Shape              Param #   \n",
      "=================================================================\n",
      "Input_a (InputLayer)         [(None, 10, 17, 3, 1)]    0         \n",
      "_________________________________________________________________\n",
      "reshape (Reshape)            (None, 10, 17, 3)         0         \n",
      "_________________________________________________________________\n",
      "conv2d (Conv2D)              (None, 6, 10, 128)        15488     \n",
      "_________________________________________________________________\n",
      "max_pooling2d (MaxPooling2D) (None, 3, 10, 128)        0         \n",
      "_________________________________________________________________\n",
      "up_sampling2d (UpSampling2D) (None, 3, 20, 128)        0         \n",
      "_________________________________________________________________\n",
      "dropout (Dropout)            (None, 3, 20, 128)        0         \n",
      "_________________________________________________________________\n",
      "batch_normalization (BatchNo (None, 3, 20, 128)        512       \n",
      "_________________________________________________________________\n",
      "conv2d_1 (Conv2D)            (None, 3, 20, 28)         89628     \n",
      "_________________________________________________________________\n",
      "max_pooling2d_1 (MaxPooling2 (None, 1, 20, 28)         0         \n",
      "_________________________________________________________________\n",
      "dropout_1 (Dropout)          (None, 1, 20, 28)         0         \n",
      "_________________________________________________________________\n",
      "batch_normalization_1 (Batch (None, 1, 20, 28)         112       \n",
      "_________________________________________________________________\n",
      "up_sampling2d_1 (UpSampling2 (None, 1, 80, 28)         0         \n",
      "_________________________________________________________________\n",
      "reshape_1 (Reshape)          (None, 80, 28, 1)         0         \n",
      "=================================================================\n",
      "Total params: 105,740\n",
      "Trainable params: 105,428\n",
      "Non-trainable params: 312\n",
      "_________________________________________________________________\n"
     ]
    }
   ],
   "source": [
    "#10 frames 3dcnn\n",
    "droprate = 0.3\n",
    "a = layers.Input(shape=(10, 17, 3, 1), name=\"Input_a\")\n",
    "output1 = layers.Reshape((10, 17, 3))(a)\n",
    "output1 = layers.Conv2D(filters = 128, kernel_size = (5,8),  activation='relu')(output1) #no padding, critical for shaping the tensor\n",
    "# don't change this layer's kernel without adjusting the pooling and upsampling\n",
    "output1= layers.MaxPooling2D(pool_size=(2, 1))(output1)\n",
    "output1= layers.UpSampling2D(size=(1, 2))(output1)\n",
    "output1= layers.Dropout(droprate)(output1)\n",
    "output1= layers.BatchNormalization()(output1)\n",
    "output1= layers.Conv2D(28, kernel_size=(5, 5), padding = 'same', activation='relu')(output1)\n",
    "output1= layers.MaxPooling2D(pool_size=(2, 1))(output1)\n",
    "output1= layers.Dropout(droprate)(output1)\n",
    "output1= layers.BatchNormalization()(output1)\n",
    "output1= layers.UpSampling2D(size=(1, 4))(output1)\n",
    "output1 = layers.Reshape((80,28,1))(output1)\n",
    "model1 = tensorflow.keras.Model(inputs=a,outputs=[output1], name=\"model_1\")\n",
    "model1.summary()"
   ]
  },
  {
   "cell_type": "code",
   "execution_count": 6,
   "id": "c8f9626a",
   "metadata": {
    "ExecuteTime": {
     "end_time": "2022-07-05T12:21:14.766803Z",
     "start_time": "2022-07-05T12:21:14.722424Z"
    }
   },
   "outputs": [
    {
     "name": "stdout",
     "output_type": "stream",
     "text": [
      "Model: \"model_2\"\n",
      "_________________________________________________________________\n",
      "Layer (type)                 Output Shape              Param #   \n",
      "=================================================================\n",
      "Input_b (InputLayer)         [(None, 10, 80, 28, 1)]   0         \n",
      "_________________________________________________________________\n",
      "conv3d (Conv3D)              (None, 10, 80, 28, 64)    1792      \n",
      "_________________________________________________________________\n",
      "max_pooling3d (MaxPooling3D) (None, 5, 80, 28, 64)     0         \n",
      "_________________________________________________________________\n",
      "dropout_2 (Dropout)          (None, 5, 80, 28, 64)     0         \n",
      "_________________________________________________________________\n",
      "batch_normalization_2 (Batch (None, 5, 80, 28, 64)     256       \n",
      "_________________________________________________________________\n",
      "conv3d_1 (Conv3D)            (None, 5, 80, 28, 128)    221312    \n",
      "_________________________________________________________________\n",
      "max_pooling3d_1 (MaxPooling3 (None, 2, 80, 28, 128)    0         \n",
      "_________________________________________________________________\n",
      "dropout_3 (Dropout)          (None, 2, 80, 28, 128)    0         \n",
      "_________________________________________________________________\n",
      "batch_normalization_3 (Batch (None, 2, 80, 28, 128)    512       \n",
      "_________________________________________________________________\n",
      "conv3d_2 (Conv3D)            (None, 2, 80, 28, 5)      11525     \n",
      "_________________________________________________________________\n",
      "max_pooling3d_2 (MaxPooling3 (None, 1, 80, 28, 5)      0         \n",
      "_________________________________________________________________\n",
      "conv3d_3 (Conv3D)            (None, 1, 80, 28, 1)      46        \n",
      "_________________________________________________________________\n",
      "reshape_2 (Reshape)          (None, 80, 28, 1)         0         \n",
      "=================================================================\n",
      "Total params: 235,443\n",
      "Trainable params: 235,059\n",
      "Non-trainable params: 384\n",
      "_________________________________________________________________\n"
     ]
    }
   ],
   "source": [
    "b = layers.Input(shape=(10,80, 28, 1), name=\"Input_b\")\n",
    "output2 = layers.Conv3D(filters = 64, kernel_size = (3,3,3), padding = 'same', activation='relu')(b)\n",
    "output2 = layers.MaxPooling3D(pool_size=(2, 1, 1))(output2)\n",
    "output2 = layers.Dropout(droprate)(output2)\n",
    "output2 = layers.BatchNormalization()(output2)\n",
    "output2 = layers.Conv3D(128, kernel_size=(3, 3, 3), padding='same',activation='relu')(output2)\n",
    "output2 = layers.MaxPooling3D(pool_size=(2, 1, 1))(output2)\n",
    "output2 = layers.Dropout(droprate)(output2)\n",
    "output2 = layers.BatchNormalization()(output2)\n",
    "output2 = layers.Conv3D(5, kernel_size=(2, 3, 3), padding='same',activation='relu')(output2)\n",
    "output2 = layers.MaxPooling3D(pool_size=(2, 1, 1))(output2)\n",
    "#output2 = layers.UpSampling3D(size=(5, 4, 4))(output2)\n",
    "output2 = layers.Conv3D(1, kernel_size=(1, 3, 3), padding='same',activation='relu')(output2)\n",
    "output2 = layers.Reshape((80,28,1))(output2)\n",
    "model2 = tensorflow.keras.Model(inputs=b,outputs=[output2], name=\"model_2\")\n",
    "model2.summary()"
   ]
  },
  {
   "cell_type": "code",
   "execution_count": 7,
   "id": "211a0c9d",
   "metadata": {
    "ExecuteTime": {
     "end_time": "2022-07-05T12:21:15.461283Z",
     "start_time": "2022-07-05T12:21:15.415172Z"
    },
    "scrolled": true
   },
   "outputs": [],
   "source": [
    "output3 = layers.Concatenate()([output1,output2])\n",
    "output3 = layers.Conv2D(filters = 32, kernel_size = (2,2), activation='relu', padding = 'same')(output3)\n",
    "output3 = layers.Conv2D(filters = 8, kernel_size = (2,2), activation='relu', padding = 'same')(output3)\n",
    "output3 = layers.Conv2D(filters = 1, kernel_size = (1,1), activation='relu', padding = 'same')(output3)\n",
    "output3 = layers.Reshape((1,80,28))(output3)"
   ]
  },
  {
   "cell_type": "code",
   "execution_count": 8,
   "id": "8c27449a",
   "metadata": {
    "ExecuteTime": {
     "end_time": "2022-07-05T12:21:16.673677Z",
     "start_time": "2022-07-05T12:21:16.645891Z"
    }
   },
   "outputs": [
    {
     "name": "stdout",
     "output_type": "stream",
     "text": [
      "Model: \"regressor_model\"\n",
      "__________________________________________________________________________________________________\n",
      "Layer (type)                    Output Shape         Param #     Connected to                     \n",
      "==================================================================================================\n",
      "Input_a (InputLayer)            [(None, 10, 17, 3, 1 0                                            \n",
      "__________________________________________________________________________________________________\n",
      "Input_b (InputLayer)            [(None, 10, 80, 28,  0                                            \n",
      "__________________________________________________________________________________________________\n",
      "reshape (Reshape)               (None, 10, 17, 3)    0           Input_a[0][0]                    \n",
      "__________________________________________________________________________________________________\n",
      "conv3d (Conv3D)                 (None, 10, 80, 28, 6 1792        Input_b[0][0]                    \n",
      "__________________________________________________________________________________________________\n",
      "conv2d (Conv2D)                 (None, 6, 10, 128)   15488       reshape[0][0]                    \n",
      "__________________________________________________________________________________________________\n",
      "max_pooling3d (MaxPooling3D)    (None, 5, 80, 28, 64 0           conv3d[0][0]                     \n",
      "__________________________________________________________________________________________________\n",
      "max_pooling2d (MaxPooling2D)    (None, 3, 10, 128)   0           conv2d[0][0]                     \n",
      "__________________________________________________________________________________________________\n",
      "dropout_2 (Dropout)             (None, 5, 80, 28, 64 0           max_pooling3d[0][0]              \n",
      "__________________________________________________________________________________________________\n",
      "up_sampling2d (UpSampling2D)    (None, 3, 20, 128)   0           max_pooling2d[0][0]              \n",
      "__________________________________________________________________________________________________\n",
      "batch_normalization_2 (BatchNor (None, 5, 80, 28, 64 256         dropout_2[0][0]                  \n",
      "__________________________________________________________________________________________________\n",
      "dropout (Dropout)               (None, 3, 20, 128)   0           up_sampling2d[0][0]              \n",
      "__________________________________________________________________________________________________\n",
      "conv3d_1 (Conv3D)               (None, 5, 80, 28, 12 221312      batch_normalization_2[0][0]      \n",
      "__________________________________________________________________________________________________\n",
      "batch_normalization (BatchNorma (None, 3, 20, 128)   512         dropout[0][0]                    \n",
      "__________________________________________________________________________________________________\n",
      "max_pooling3d_1 (MaxPooling3D)  (None, 2, 80, 28, 12 0           conv3d_1[0][0]                   \n",
      "__________________________________________________________________________________________________\n",
      "conv2d_1 (Conv2D)               (None, 3, 20, 28)    89628       batch_normalization[0][0]        \n",
      "__________________________________________________________________________________________________\n",
      "dropout_3 (Dropout)             (None, 2, 80, 28, 12 0           max_pooling3d_1[0][0]            \n",
      "__________________________________________________________________________________________________\n",
      "max_pooling2d_1 (MaxPooling2D)  (None, 1, 20, 28)    0           conv2d_1[0][0]                   \n",
      "__________________________________________________________________________________________________\n",
      "batch_normalization_3 (BatchNor (None, 2, 80, 28, 12 512         dropout_3[0][0]                  \n",
      "__________________________________________________________________________________________________\n",
      "dropout_1 (Dropout)             (None, 1, 20, 28)    0           max_pooling2d_1[0][0]            \n",
      "__________________________________________________________________________________________________\n",
      "conv3d_2 (Conv3D)               (None, 2, 80, 28, 5) 11525       batch_normalization_3[0][0]      \n",
      "__________________________________________________________________________________________________\n",
      "batch_normalization_1 (BatchNor (None, 1, 20, 28)    112         dropout_1[0][0]                  \n",
      "__________________________________________________________________________________________________\n",
      "max_pooling3d_2 (MaxPooling3D)  (None, 1, 80, 28, 5) 0           conv3d_2[0][0]                   \n",
      "__________________________________________________________________________________________________\n",
      "up_sampling2d_1 (UpSampling2D)  (None, 1, 80, 28)    0           batch_normalization_1[0][0]      \n",
      "__________________________________________________________________________________________________\n",
      "conv3d_3 (Conv3D)               (None, 1, 80, 28, 1) 46          max_pooling3d_2[0][0]            \n",
      "__________________________________________________________________________________________________\n",
      "reshape_1 (Reshape)             (None, 80, 28, 1)    0           up_sampling2d_1[0][0]            \n",
      "__________________________________________________________________________________________________\n",
      "reshape_2 (Reshape)             (None, 80, 28, 1)    0           conv3d_3[0][0]                   \n",
      "__________________________________________________________________________________________________\n",
      "concatenate (Concatenate)       (None, 80, 28, 2)    0           reshape_1[0][0]                  \n",
      "                                                                 reshape_2[0][0]                  \n",
      "__________________________________________________________________________________________________\n",
      "conv2d_2 (Conv2D)               (None, 80, 28, 32)   288         concatenate[0][0]                \n",
      "__________________________________________________________________________________________________\n",
      "conv2d_3 (Conv2D)               (None, 80, 28, 8)    1032        conv2d_2[0][0]                   \n",
      "__________________________________________________________________________________________________\n",
      "conv2d_4 (Conv2D)               (None, 80, 28, 1)    9           conv2d_3[0][0]                   \n",
      "__________________________________________________________________________________________________\n",
      "reshape_3 (Reshape)             (None, 1, 80, 28)    0           conv2d_4[0][0]                   \n",
      "==================================================================================================\n",
      "Total params: 342,512\n",
      "Trainable params: 341,816\n",
      "Non-trainable params: 696\n",
      "__________________________________________________________________________________________________\n"
     ]
    }
   ],
   "source": [
    "\n",
    "model = tensorflow.keras.Model(inputs=[a,b],outputs=[output3], name=\"regressor_model\")\n",
    "model.compile(loss='mse',optimizer=tensorflow.keras.optimizers.Adam(learning_rate=0.001), metrics=[\"mae\"])\n",
    "model.summary()"
   ]
  },
  {
   "cell_type": "code",
   "execution_count": null,
   "id": "a7fa9a99",
   "metadata": {
    "ExecuteTime": {
     "end_time": "2022-07-05T12:22:11.448999Z",
     "start_time": "2022-07-05T12:21:17.684350Z"
    }
   },
   "outputs": [
    {
     "name": "stdout",
     "output_type": "stream",
     "text": [
      "Epoch 1/40\n",
      "74/74 [==============================] - 31s 298ms/step - loss: 5510.7329 - mae: 13.7977 - val_loss: 6479.5664 - val_mae: 62.5152\n",
      "Epoch 2/40\n",
      "74/74 [==============================] - 20s 272ms/step - loss: 5372.4102 - mae: 17.3864 - val_loss: 3730.5479 - val_mae: 13.3771\n",
      "Epoch 3/40\n",
      "42/74 [================>.............] - ETA: 7s - loss: 5260.2524 - mae: 17.0329"
     ]
    }
   ],
   "source": [
    "history = model.fit([in_1,in_2],out,\n",
    "            batch_size=128,\n",
    "            epochs=40,\n",
    "            verbose=1,\n",
    "            validation_split=0.3\n",
    "                   )"
   ]
  },
  {
   "cell_type": "code",
   "execution_count": null,
   "id": "8af64af5",
   "metadata": {},
   "outputs": [],
   "source": [
    "pred = model.predict([in_1,in_2]) "
   ]
  },
  {
   "cell_type": "code",
   "execution_count": null,
   "id": "98585645",
   "metadata": {},
   "outputs": [],
   "source": [
    "pred.shape\n",
    "np.save(\"pd11.npy\", pred)\n",
    "np.save(\"gt11.npy\", out)\n",
    "out.shape"
   ]
  },
  {
   "cell_type": "code",
   "execution_count": null,
   "id": "c894b7dd",
   "metadata": {},
   "outputs": [],
   "source": [
    "ind = 13100\n",
    "gt = np.squeeze(out[ind,0])\n",
    "pd = np.squeeze(pred[ind])"
   ]
  },
  {
   "cell_type": "code",
   "execution_count": null,
   "id": "17d0f690",
   "metadata": {},
   "outputs": [],
   "source": [
    "print(gt.shape)\n",
    "print(pd.shape)"
   ]
  },
  {
   "cell_type": "code",
   "execution_count": null,
   "id": "d1a998a2",
   "metadata": {},
   "outputs": [],
   "source": [
    "plt.figure(figsize=(6, 3.2))\n",
    "ax = plt.subplot(1,2,1)\n",
    "ax.set_title('gt')\n",
    "plt.imshow(gt)\n",
    "ax.set_aspect('equal')\n",
    "ax = plt.subplot(1,2,2)\n",
    "ax.set_title('pd')\n",
    "plt.imshow(pd)\n",
    "ax.set_aspect('equal')\n",
    "plt.show()"
   ]
  },
  {
   "cell_type": "code",
   "execution_count": null,
   "id": "2a1d39bd",
   "metadata": {},
   "outputs": [],
   "source": [
    "fig = plt.figure(figsize=(6, 3.2))\n",
    "ax = fig.add_subplot(111)\n",
    "plt.axis('off')\n",
    "plt.imshow(gt)\n",
    "ax.set_aspect('equal')\n",
    "#cax = fig.add_axes([0.12, 0.1, 0.78, 0.8])\n",
    "#cax.get_xaxis().set_visible(False)\n",
    "#cax.get_yaxis().set_visible(False)\n",
    "ax.set(xlabel=None)\n",
    "#cax.patch.set_alpha(0)\n",
    "#cax.set_frame_on(False)\n",
    "plt.savefig('gt.png')\n",
    "fig = plt.figure(figsize=(6, 3.2))\n",
    "ax = fig.add_subplot(111)\n",
    "plt.axis('off')\n",
    "plt.imshow(pd)\n",
    "ax.set_aspect('equal')\n",
    "#cax = fig.add_axes([0.12, 0.1, 0.78, 0.8])\n",
    "#cax.get_xaxis().set_visible(False)\n",
    "#cax.get_yaxis().set_visible(False)\n",
    "#cax.patch.set_alpha(0)\n",
    "#cax.set_frame_on(False)\n",
    "plt.savefig('pd.png')"
   ]
  },
  {
   "cell_type": "code",
   "execution_count": null,
   "id": "64de618b",
   "metadata": {},
   "outputs": [],
   "source": [
    "orb = cv2.ORB_create()\n",
    "\n",
    "# Now detect the keypoints and compute\n",
    "# the descriptors for the query image\n",
    "# and train image\n",
    "queryKeypoints, queryDescriptors = orb.detectAndCompute(cv2.imread('gt.png'),None)\n",
    "trainKeypoints, trainDescriptors = orb.detectAndCompute(cv2.imread('pd.png'),None)\n",
    "\n",
    "# Initialize the Matcher for matching\n",
    "# the keypoints and then match the\n",
    "# keypoints\n",
    "matcher = cv2.BFMatcher()\n",
    "matches = matcher.match(queryDescriptors,trainDescriptors)\n",
    "\n",
    "# draw the matches to the final image\n",
    "# containing both the images the drawMatches()\n",
    "# function takes both images and keypoints\n",
    "# and outputs the matched query image with\n",
    "# its train image\n",
    "final_img = cv2.drawMatches(cv2.imread('gt.png'), queryKeypoints,\n",
    "cv2.imread('pd.png'), trainKeypoints, matches[:20],None)\n",
    "\n",
    "final_img = cv2.resize(final_img, (1000,650))\n",
    "\n",
    "# Show the final image\n",
    "cv2.imwrite('keypointa.png',final_img)"
   ]
  },
  {
   "cell_type": "code",
   "execution_count": null,
   "id": "acdd1380",
   "metadata": {},
   "outputs": [],
   "source": [
    "import sys\n",
    "from PIL import Image\n",
    "import glob, os\n",
    "\n",
    "def compare_pixels(png1, png2):\n",
    "  pixels1 = list(png1.getdata())\n",
    "  pixels2 = list(png2.getdata())\n",
    "  if len(pixels1) != len(pixels2):\n",
    "    return -1 # different pixel count\n",
    "  match = 0\n",
    "  mismatch = 0\n",
    "  for i in range(0, len(pixels1)):\n",
    "    if pixels1[i] == pixels2[i]:\n",
    "      match = match + 1\n",
    "    else:\n",
    "      mismatch = mismatch + 1\n",
    "  return match/(match+mismatch)\n",
    "blur = Image.open('pd.png', mode='r', formats=None)\n",
    "org = Image.open('gt.png', mode='r', formats=None)\n",
    "print(compare_pixels(org,blur))"
   ]
  },
  {
   "cell_type": "code",
   "execution_count": null,
   "id": "1530fc17",
   "metadata": {},
   "outputs": [],
   "source": []
  }
 ],
 "metadata": {
  "kernelspec": {
   "display_name": "Python 3 (ipykernel)",
   "language": "python",
   "name": "python3"
  },
  "language_info": {
   "codemirror_mode": {
    "name": "ipython",
    "version": 3
   },
   "file_extension": ".py",
   "mimetype": "text/x-python",
   "name": "python",
   "nbconvert_exporter": "python",
   "pygments_lexer": "ipython3",
   "version": "3.9.12"
  }
 },
 "nbformat": 4,
 "nbformat_minor": 5
}
